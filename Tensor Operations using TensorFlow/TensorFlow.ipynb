{
  "nbformat": 4,
  "nbformat_minor": 0,
  "metadata": {
    "colab": {
      "provenance": [],
      "gpuType": "T4",
      "include_colab_link": true
    },
    "kernelspec": {
      "name": "python3",
      "display_name": "Python 3"
    },
    "language_info": {
      "name": "python"
    },
    "accelerator": "GPU"
  },
  "cells": [
    {
      "cell_type": "markdown",
      "metadata": {
        "id": "view-in-github",
        "colab_type": "text"
      },
      "source": [
        "<a href=\"https://colab.research.google.com/github/harshavardhangadila/Tensors-Operations/blob/main/Tensor%20Operations%20using%20TensorFlow/TensorFlow.ipynb\" target=\"_parent\"><img src=\"https://colab.research.google.com/assets/colab-badge.svg\" alt=\"Open In Colab\"/></a>"
      ]
    },
    {
      "cell_type": "code",
      "source": [
        "!pip install tensorflow\n"
      ],
      "metadata": {
        "colab": {
          "base_uri": "https://localhost:8080/"
        },
        "id": "XKhkS0Aj0dFc",
        "outputId": "0451e81d-3d33-4329-c42d-bb4523e401b9"
      },
      "execution_count": 23,
      "outputs": [
        {
          "output_type": "stream",
          "name": "stdout",
          "text": [
            "Requirement already satisfied: tensorflow in /usr/local/lib/python3.11/dist-packages (2.18.0)\n",
            "Requirement already satisfied: absl-py>=1.0.0 in /usr/local/lib/python3.11/dist-packages (from tensorflow) (1.4.0)\n",
            "Requirement already satisfied: astunparse>=1.6.0 in /usr/local/lib/python3.11/dist-packages (from tensorflow) (1.6.3)\n",
            "Requirement already satisfied: flatbuffers>=24.3.25 in /usr/local/lib/python3.11/dist-packages (from tensorflow) (25.2.10)\n",
            "Requirement already satisfied: gast!=0.5.0,!=0.5.1,!=0.5.2,>=0.2.1 in /usr/local/lib/python3.11/dist-packages (from tensorflow) (0.6.0)\n",
            "Requirement already satisfied: google-pasta>=0.1.1 in /usr/local/lib/python3.11/dist-packages (from tensorflow) (0.2.0)\n",
            "Requirement already satisfied: libclang>=13.0.0 in /usr/local/lib/python3.11/dist-packages (from tensorflow) (18.1.1)\n",
            "Requirement already satisfied: opt-einsum>=2.3.2 in /usr/local/lib/python3.11/dist-packages (from tensorflow) (3.4.0)\n",
            "Requirement already satisfied: packaging in /usr/local/lib/python3.11/dist-packages (from tensorflow) (24.2)\n",
            "Requirement already satisfied: protobuf!=4.21.0,!=4.21.1,!=4.21.2,!=4.21.3,!=4.21.4,!=4.21.5,<6.0.0dev,>=3.20.3 in /usr/local/lib/python3.11/dist-packages (from tensorflow) (5.29.4)\n",
            "Requirement already satisfied: requests<3,>=2.21.0 in /usr/local/lib/python3.11/dist-packages (from tensorflow) (2.32.3)\n",
            "Requirement already satisfied: setuptools in /usr/local/lib/python3.11/dist-packages (from tensorflow) (75.2.0)\n",
            "Requirement already satisfied: six>=1.12.0 in /usr/local/lib/python3.11/dist-packages (from tensorflow) (1.17.0)\n",
            "Requirement already satisfied: termcolor>=1.1.0 in /usr/local/lib/python3.11/dist-packages (from tensorflow) (3.0.1)\n",
            "Requirement already satisfied: typing-extensions>=3.6.6 in /usr/local/lib/python3.11/dist-packages (from tensorflow) (4.13.1)\n",
            "Requirement already satisfied: wrapt>=1.11.0 in /usr/local/lib/python3.11/dist-packages (from tensorflow) (1.17.2)\n",
            "Requirement already satisfied: grpcio<2.0,>=1.24.3 in /usr/local/lib/python3.11/dist-packages (from tensorflow) (1.71.0)\n",
            "Requirement already satisfied: tensorboard<2.19,>=2.18 in /usr/local/lib/python3.11/dist-packages (from tensorflow) (2.18.0)\n",
            "Requirement already satisfied: keras>=3.5.0 in /usr/local/lib/python3.11/dist-packages (from tensorflow) (3.8.0)\n",
            "Requirement already satisfied: numpy<2.1.0,>=1.26.0 in /usr/local/lib/python3.11/dist-packages (from tensorflow) (2.0.2)\n",
            "Requirement already satisfied: h5py>=3.11.0 in /usr/local/lib/python3.11/dist-packages (from tensorflow) (3.13.0)\n",
            "Requirement already satisfied: ml-dtypes<0.5.0,>=0.4.0 in /usr/local/lib/python3.11/dist-packages (from tensorflow) (0.4.1)\n",
            "Requirement already satisfied: tensorflow-io-gcs-filesystem>=0.23.1 in /usr/local/lib/python3.11/dist-packages (from tensorflow) (0.37.1)\n",
            "Requirement already satisfied: wheel<1.0,>=0.23.0 in /usr/local/lib/python3.11/dist-packages (from astunparse>=1.6.0->tensorflow) (0.45.1)\n",
            "Requirement already satisfied: rich in /usr/local/lib/python3.11/dist-packages (from keras>=3.5.0->tensorflow) (13.9.4)\n",
            "Requirement already satisfied: namex in /usr/local/lib/python3.11/dist-packages (from keras>=3.5.0->tensorflow) (0.0.8)\n",
            "Requirement already satisfied: optree in /usr/local/lib/python3.11/dist-packages (from keras>=3.5.0->tensorflow) (0.15.0)\n",
            "Requirement already satisfied: charset-normalizer<4,>=2 in /usr/local/lib/python3.11/dist-packages (from requests<3,>=2.21.0->tensorflow) (3.4.1)\n",
            "Requirement already satisfied: idna<4,>=2.5 in /usr/local/lib/python3.11/dist-packages (from requests<3,>=2.21.0->tensorflow) (3.10)\n",
            "Requirement already satisfied: urllib3<3,>=1.21.1 in /usr/local/lib/python3.11/dist-packages (from requests<3,>=2.21.0->tensorflow) (2.3.0)\n",
            "Requirement already satisfied: certifi>=2017.4.17 in /usr/local/lib/python3.11/dist-packages (from requests<3,>=2.21.0->tensorflow) (2025.1.31)\n",
            "Requirement already satisfied: markdown>=2.6.8 in /usr/local/lib/python3.11/dist-packages (from tensorboard<2.19,>=2.18->tensorflow) (3.7)\n",
            "Requirement already satisfied: tensorboard-data-server<0.8.0,>=0.7.0 in /usr/local/lib/python3.11/dist-packages (from tensorboard<2.19,>=2.18->tensorflow) (0.7.2)\n",
            "Requirement already satisfied: werkzeug>=1.0.1 in /usr/local/lib/python3.11/dist-packages (from tensorboard<2.19,>=2.18->tensorflow) (3.1.3)\n",
            "Requirement already satisfied: MarkupSafe>=2.1.1 in /usr/local/lib/python3.11/dist-packages (from werkzeug>=1.0.1->tensorboard<2.19,>=2.18->tensorflow) (3.0.2)\n",
            "Requirement already satisfied: markdown-it-py>=2.2.0 in /usr/local/lib/python3.11/dist-packages (from rich->keras>=3.5.0->tensorflow) (3.0.0)\n",
            "Requirement already satisfied: pygments<3.0.0,>=2.13.0 in /usr/local/lib/python3.11/dist-packages (from rich->keras>=3.5.0->tensorflow) (2.18.0)\n",
            "Requirement already satisfied: mdurl~=0.1 in /usr/local/lib/python3.11/dist-packages (from markdown-it-py>=2.2.0->rich->keras>=3.5.0->tensorflow) (0.1.2)\n"
          ]
        }
      ]
    },
    {
      "cell_type": "code",
      "execution_count": 24,
      "metadata": {
        "id": "XZbLqiDEi4QE"
      },
      "outputs": [],
      "source": [
        "import tensorflow as tf\n",
        "import numpy as np\n"
      ]
    },
    {
      "cell_type": "code",
      "source": [
        "# Set seeds for reproducibility\n",
        "tf.random.set_seed(123)\n",
        "np.random.seed(123)"
      ],
      "metadata": {
        "id": "QGZahxx5jCPC"
      },
      "execution_count": 25,
      "outputs": []
    },
    {
      "cell_type": "code",
      "source": [
        "# Creating a scalar tensor\n",
        "scalar = tf.constant(10, dtype=tf.int32)\n",
        "print(\"Scalar:\", scalar)\n",
        "\n",
        "# Creating a vector tensor\n",
        "vector = tf.constant([1.5, 2.5, 3.5], dtype=tf.float32)\n",
        "print(\"Vector:\", vector)\n",
        "\n",
        "# Creating a matrix tensor\n",
        "matrix = tf.constant([[1, 2], [3, 4]], dtype=tf.int32)\n",
        "print(\"Matrix:\\n\", matrix)"
      ],
      "metadata": {
        "id": "Q2v0z7BjjCR5",
        "colab": {
          "base_uri": "https://localhost:8080/"
        },
        "outputId": "44d97cf1-47e3-4ae6-dd34-89e95a982967"
      },
      "execution_count": 26,
      "outputs": [
        {
          "output_type": "stream",
          "name": "stdout",
          "text": [
            "Scalar: tf.Tensor(10, shape=(), dtype=int32)\n",
            "Vector: tf.Tensor([1.5 2.5 3.5], shape=(3,), dtype=float32)\n",
            "Matrix:\n",
            " tf.Tensor(\n",
            "[[1 2]\n",
            " [3 4]], shape=(2, 2), dtype=int32)\n"
          ]
        }
      ]
    },
    {
      "cell_type": "code",
      "source": [
        "# Checking shape of tensor\n",
        "shape = matrix.shape\n",
        "print(\"Shape:\", shape)\n",
        "\n",
        "# Checking datatype of tensor\n",
        "dtype = matrix.dtype\n",
        "print(\"Dtype:\", dtype)\n",
        "\n",
        "# Checking number of dimensions\n",
        "ndim = matrix.ndim\n",
        "print(\"Dimensions:\", ndim)"
      ],
      "metadata": {
        "id": "WXHbL247jCU5",
        "colab": {
          "base_uri": "https://localhost:8080/"
        },
        "outputId": "4c04372c-b904-4427-d515-9c38d39ff22e"
      },
      "execution_count": 27,
      "outputs": [
        {
          "output_type": "stream",
          "name": "stdout",
          "text": [
            "Shape: (2, 2)\n",
            "Dtype: <dtype: 'int32'>\n",
            "Dimensions: 2\n"
          ]
        }
      ]
    },
    {
      "cell_type": "code",
      "source": [
        "# Casting tensor type\n",
        "vector_casted = tf.cast(vector, dtype=tf.float64)\n",
        "print(\"Vector Casted:\", vector_casted)\n",
        "\n",
        "# Adding tensors\n",
        "added_tensor = vector + 2\n",
        "print(\"Added Tensor:\", added_tensor)\n",
        "\n",
        "# Multiplying tensors\n",
        "multiplied_tensor = vector * 3\n",
        "print(\"Multiplied Tensor:\", multiplied_tensor)"
      ],
      "metadata": {
        "id": "Hh22i-s5jCXq",
        "colab": {
          "base_uri": "https://localhost:8080/"
        },
        "outputId": "4eb83fb7-9286-41b8-d81c-d1dd0b249fb0"
      },
      "execution_count": 28,
      "outputs": [
        {
          "output_type": "stream",
          "name": "stdout",
          "text": [
            "Vector Casted: tf.Tensor([1.5 2.5 3.5], shape=(3,), dtype=float64)\n",
            "Added Tensor: tf.Tensor([3.5 4.5 5.5], shape=(3,), dtype=float32)\n",
            "Multiplied Tensor: tf.Tensor([ 4.5  7.5 10.5], shape=(3,), dtype=float32)\n"
          ]
        }
      ]
    },
    {
      "cell_type": "code",
      "source": [
        "# Computing sum of elements\n",
        "sum_value = tf.reduce_sum(vector)\n",
        "print(\"Sum:\", sum_value)"
      ],
      "metadata": {
        "id": "dCvZe3IyjCaZ",
        "colab": {
          "base_uri": "https://localhost:8080/"
        },
        "outputId": "a5cfa7c9-004b-4d60-a704-9bc8613c6498"
      },
      "execution_count": 29,
      "outputs": [
        {
          "output_type": "stream",
          "name": "stdout",
          "text": [
            "Sum: tf.Tensor(7.5, shape=(), dtype=float32)\n"
          ]
        }
      ]
    },
    {
      "cell_type": "code",
      "source": [
        "# Matrix multiplication\n",
        "mat_A = tf.constant([[1, 2], [3, 4]], dtype=tf.float32)\n",
        "mat_B = tf.constant([[5, 6], [7, 8]], dtype=tf.float32)\n",
        "mat_mul = tf.matmul(mat_A, mat_B)\n",
        "print(\"Matrix Multiplication:\\n\", mat_mul)\n"
      ],
      "metadata": {
        "id": "iXzo8drGjCdX",
        "colab": {
          "base_uri": "https://localhost:8080/"
        },
        "outputId": "6b10c929-5d01-46dc-99f8-ba3cc09b14dd"
      },
      "execution_count": 30,
      "outputs": [
        {
          "output_type": "stream",
          "name": "stdout",
          "text": [
            "Matrix Multiplication:\n",
            " tf.Tensor(\n",
            "[[19. 22.]\n",
            " [43. 50.]], shape=(2, 2), dtype=float32)\n"
          ]
        }
      ]
    },
    {
      "cell_type": "code",
      "source": [
        "# Transposing a matrix\n",
        "transposed_matrix = tf.transpose(mat_A)\n",
        "print(\"Transposed:\\n\", transposed_matrix)\n",
        "\n",
        "# Computing Frobenius norm\n",
        "norm_matrix = tf.norm(mat_A)\n",
        "print(\"Frobenius Norm:\", norm_matrix)\n",
        "\n",
        "# Concatenating tensors\n",
        "concat_tensor = tf.concat([vector, vector], axis=0)\n",
        "print(\"Concatenated Tensor:\", concat_tensor)"
      ],
      "metadata": {
        "id": "-NzJ671MrxHu",
        "colab": {
          "base_uri": "https://localhost:8080/"
        },
        "outputId": "b517335c-6925-4f7b-82e2-e2dd04c3be46"
      },
      "execution_count": 31,
      "outputs": [
        {
          "output_type": "stream",
          "name": "stdout",
          "text": [
            "Transposed:\n",
            " tf.Tensor(\n",
            "[[1. 3.]\n",
            " [2. 4.]], shape=(2, 2), dtype=float32)\n",
            "Frobenius Norm: tf.Tensor(5.4772253, shape=(), dtype=float32)\n",
            "Concatenated Tensor: tf.Tensor([1.5 2.5 3.5 1.5 2.5 3.5], shape=(6,), dtype=float32)\n"
          ]
        }
      ]
    },
    {
      "cell_type": "code",
      "source": [
        "# Stacking tensors\n",
        "stacked_tensor = tf.stack([vector, vector], axis=1)\n",
        "print(\"Stacked Tensor:\\n\", stacked_tensor)\n",
        "\n",
        "# Expanding dimensions\n",
        "expanded_tensor = tf.expand_dims(vector, axis=0)\n",
        "print(\"Expanded Tensor:\", expanded_tensor)\n",
        "\n",
        "# Squeezing dimensions\n",
        "squeezed_tensor = tf.squeeze(expanded_tensor)\n",
        "print(\"Squeezed Tensor:\", squeezed_tensor)"
      ],
      "metadata": {
        "id": "boU8DnyMrxLp",
        "colab": {
          "base_uri": "https://localhost:8080/"
        },
        "outputId": "7139fea2-fdca-46d8-8d04-88347959e03f"
      },
      "execution_count": 32,
      "outputs": [
        {
          "output_type": "stream",
          "name": "stdout",
          "text": [
            "Stacked Tensor:\n",
            " tf.Tensor(\n",
            "[[1.5 1.5]\n",
            " [2.5 2.5]\n",
            " [3.5 3.5]], shape=(3, 2), dtype=float32)\n",
            "Expanded Tensor: tf.Tensor([[1.5 2.5 3.5]], shape=(1, 3), dtype=float32)\n",
            "Squeezed Tensor: tf.Tensor([1.5 2.5 3.5], shape=(3,), dtype=float32)\n"
          ]
        }
      ]
    },
    {
      "cell_type": "code",
      "source": [
        "# Computing the maximum value in a tensor\n",
        "max_value = tf.reduce_max(vector)\n",
        "print(\"Max Value:\", max_value)\n",
        "\n",
        "# Computing the mean of elements\n",
        "mean_value = tf.reduce_mean(vector)\n",
        "print(\"Mean Value:\", mean_value)\n",
        "\n",
        "# Computing softmax\n",
        "softmax_values = tf.nn.softmax(vector)\n",
        "print(\"Softmax:\", softmax_values)\n"
      ],
      "metadata": {
        "id": "RlqBRUX0r4Hw",
        "colab": {
          "base_uri": "https://localhost:8080/"
        },
        "outputId": "c1f94e08-be6b-4a3c-d63b-4c16e457c2d0"
      },
      "execution_count": 33,
      "outputs": [
        {
          "output_type": "stream",
          "name": "stdout",
          "text": [
            "Max Value: tf.Tensor(3.5, shape=(), dtype=float32)\n",
            "Mean Value: tf.Tensor(2.5, shape=(), dtype=float32)\n",
            "Softmax: tf.Tensor([0.09003057 0.24472848 0.6652409 ], shape=(3,), dtype=float32)\n"
          ]
        }
      ]
    },
    {
      "cell_type": "code",
      "source": [
        "# Computing determinant of a matrix\n",
        "determinant = tf.linalg.det(mat_A)\n",
        "print(\"Determinant:\", determinant)\n",
        "\n",
        "# Computing matrix inverse\n",
        "inverse_matrix = tf.linalg.inv(tf.constant([[4.0, 7.0], [2.0, 6.0]]))\n",
        "print(\"Inverse Matrix:\\n\", inverse_matrix)\n",
        "\n",
        "# Computing matrix trace\n",
        "trace_matrix = tf.linalg.trace(mat_A)\n",
        "print(\"Trace:\", trace_matrix)"
      ],
      "metadata": {
        "id": "TIHoUmaRr4LQ",
        "colab": {
          "base_uri": "https://localhost:8080/"
        },
        "outputId": "2a254b98-9582-4ac4-e8b9-4bc291209c9a"
      },
      "execution_count": 34,
      "outputs": [
        {
          "output_type": "stream",
          "name": "stdout",
          "text": [
            "Determinant: tf.Tensor(-2.0, shape=(), dtype=float32)\n",
            "Inverse Matrix:\n",
            " tf.Tensor(\n",
            "[[ 0.59999996 -0.69999987]\n",
            " [-0.19999997  0.39999995]], shape=(2, 2), dtype=float32)\n",
            "Trace: tf.Tensor(5.0, shape=(), dtype=float32)\n"
          ]
        }
      ]
    },
    {
      "cell_type": "code",
      "source": [
        "# Computing matrix rank\n",
        "rank_matrix = tf.rank(mat_A)\n",
        "print(\"Rank:\", rank_matrix)\n",
        "\n",
        "# Computing element-wise division\n",
        "elementwise_div = mat_A / mat_B\n",
        "print(\"Element-wise Division:\\n\", elementwise_div)\n"
      ],
      "metadata": {
        "id": "P5S8OenjjChp",
        "colab": {
          "base_uri": "https://localhost:8080/"
        },
        "outputId": "df86211b-f8d1-43d6-a7e5-559f4728811c"
      },
      "execution_count": 35,
      "outputs": [
        {
          "output_type": "stream",
          "name": "stdout",
          "text": [
            "Rank: tf.Tensor(2, shape=(), dtype=int32)\n",
            "Element-wise Division:\n",
            " tf.Tensor(\n",
            "[[0.2        0.33333334]\n",
            " [0.42857143 0.5       ]], shape=(2, 2), dtype=float32)\n"
          ]
        }
      ]
    },
    {
      "cell_type": "code",
      "source": [
        "# Computing eigenvalues and eigenvectors\n",
        "eigvals, eigvecs = tf.linalg.eigh(tf.constant([[6.0, 2.0], [2.0, 3.0]]))\n",
        "print(\"Eigenvalues:\", eigvals)\n",
        "print(\"Eigenvectors:\\n\", eigvecs)\n",
        "\n",
        "# Computing Cholesky decomposition\n",
        "cholesky_decomp = tf.linalg.cholesky(tf.constant([[4.0, 2.0], [2.0, 3.0]]))\n",
        "print(\"Cholesky Decomposition:\\n\", cholesky_decomp)"
      ],
      "metadata": {
        "id": "2lB3luSjr-iy",
        "colab": {
          "base_uri": "https://localhost:8080/"
        },
        "outputId": "4932c03f-3785-4b74-861a-19fd06587d53"
      },
      "execution_count": 36,
      "outputs": [
        {
          "output_type": "stream",
          "name": "stdout",
          "text": [
            "Eigenvalues: tf.Tensor([1.9999999 7.       ], shape=(2,), dtype=float32)\n",
            "Eigenvectors:\n",
            " tf.Tensor(\n",
            "[[-0.4472136  0.8944272]\n",
            " [ 0.8944272  0.4472136]], shape=(2, 2), dtype=float32)\n",
            "Cholesky Decomposition:\n",
            " tf.Tensor(\n",
            "[[2.        0.       ]\n",
            " [1.        1.4142135]], shape=(2, 2), dtype=float32)\n"
          ]
        }
      ]
    },
    {
      "cell_type": "code",
      "source": [
        "# Performing Singular Value Decomposition (SVD)\n",
        "s, u, v = tf.linalg.svd(mat_A)\n",
        "print(\"Singular Values:\", s)\n",
        "print(\"U:\\n\", u)\n",
        "print(\"V:\\n\", v)\n",
        "\n",
        "# Computing element-wise exponent\n",
        "exp_tensor = tf.exp(vector)\n",
        "print(\"Exponential Tensor:\", exp_tensor)"
      ],
      "metadata": {
        "id": "re7JF8tgr-nT",
        "colab": {
          "base_uri": "https://localhost:8080/"
        },
        "outputId": "46a29f1e-9033-45bc-f1dd-7b4d2e131262"
      },
      "execution_count": 37,
      "outputs": [
        {
          "output_type": "stream",
          "name": "stdout",
          "text": [
            "Singular Values: tf.Tensor([5.4649854  0.36596614], shape=(2,), dtype=float32)\n",
            "U:\n",
            " tf.Tensor(\n",
            "[[-0.40455362 -0.91451436]\n",
            " [-0.9145144   0.40455356]], shape=(2, 2), dtype=float32)\n",
            "V:\n",
            " tf.Tensor(\n",
            "[[-0.5760485   0.81741554]\n",
            " [-0.81741554 -0.5760485 ]], shape=(2, 2), dtype=float32)\n",
            "Exponential Tensor: tf.Tensor([ 4.481689 12.182494 33.11545 ], shape=(3,), dtype=float32)\n"
          ]
        }
      ]
    },
    {
      "cell_type": "code",
      "source": [
        "# Computing element-wise logarithm\n",
        "log_tensor = tf.math.log(vector)\n",
        "print(\"Logarithmic Tensor:\", log_tensor)\n",
        "\n",
        "# Computing cosine similarity\n",
        "cosine_sim = tf.tensordot(vector, vector, axes=1) / (tf.norm(vector) * tf.norm(vector))\n",
        "print(\"Cosine Similarity:\", cosine_sim)\n",
        "\n",
        "# Computing QR decomposition\n",
        "q, r = tf.linalg.qr(tf.cast(mat_A, tf.float32))\n",
        "print(\"Q:\\n\", q)\n",
        "print(\"R:\\n\", r)"
      ],
      "metadata": {
        "id": "dOyzY8MQr-rq",
        "colab": {
          "base_uri": "https://localhost:8080/"
        },
        "outputId": "7b11d1b6-60d3-44fe-a2e8-34381447b76a"
      },
      "execution_count": 38,
      "outputs": [
        {
          "output_type": "stream",
          "name": "stdout",
          "text": [
            "Logarithmic Tensor: tf.Tensor([0.40546513 0.91629076 1.252763  ], shape=(3,), dtype=float32)\n",
            "Cosine Similarity: tf.Tensor(1.0, shape=(), dtype=float32)\n",
            "Q:\n",
            " tf.Tensor(\n",
            "[[-0.3162278  -0.9486833 ]\n",
            " [-0.9486833   0.31622773]], shape=(2, 2), dtype=float32)\n",
            "R:\n",
            " tf.Tensor(\n",
            "[[-3.1622777  -4.4271884 ]\n",
            " [ 0.         -0.63245535]], shape=(2, 2), dtype=float32)\n"
          ]
        }
      ]
    },
    {
      "cell_type": "code",
      "source": [
        "# Computing log determinant\n",
        "log_determinant = tf.linalg.logdet(tf.constant([[4.0, 7.0], [2.0, 6.0]]))\n",
        "print(\"Log Determinant:\", log_determinant)\n",
        "\n",
        "# Computing batch matrix multiplication\n",
        "batch_A = tf.random.uniform((2, 3, 3))\n",
        "batch_B = tf.random.uniform((2, 3, 3))\n",
        "batch_matmul = tf.matmul(batch_A, batch_B)\n",
        "print(\"Batch Matrix Multiplication:\\n\", batch_matmul)"
      ],
      "metadata": {
        "id": "L8dXumBCsHHF",
        "colab": {
          "base_uri": "https://localhost:8080/"
        },
        "outputId": "d0dee4fc-4b7f-40d6-e52a-173297a86167"
      },
      "execution_count": 39,
      "outputs": [
        {
          "output_type": "stream",
          "name": "stdout",
          "text": [
            "Log Determinant: tf.Tensor(2.9957323, shape=(), dtype=float32)\n",
            "Batch Matrix Multiplication:\n",
            " tf.Tensor(\n",
            "[[[0.72927344 0.5716828  0.14404717]\n",
            "  [1.5717154  1.0248424  0.48348585]\n",
            "  [1.0944614  0.7570255  0.27985233]]\n",
            "\n",
            " [[0.52306616 0.4563491  0.46249467]\n",
            "  [1.0093877  0.86679745 0.86440766]\n",
            "  [0.9291225  0.8322909  0.7983096 ]]], shape=(2, 3, 3), dtype=float32)\n"
          ]
        }
      ]
    },
    {
      "cell_type": "code",
      "source": [
        "# Computing element-wise ReLU activation\n",
        "relu_tensor = tf.nn.relu(tf.constant([-1.0, 2.0, -3.0, 4.0]))\n",
        "print(\"ReLU Tensor:\", relu_tensor)\n",
        "\n",
        "# Computing standard deviation of a tensor\n",
        "std_dev = tf.math.reduce_std(tf.cast(vector, tf.float32))\n",
        "print(\"Standard Deviation:\", std_dev)\n",
        "\n",
        "# Computing variance of a tensor\n",
        "variance = tf.math.reduce_variance(tf.cast(vector, tf.float32))\n",
        "print(\"Variance:\", variance)"
      ],
      "metadata": {
        "id": "ePjyBbPTsHKd",
        "colab": {
          "base_uri": "https://localhost:8080/"
        },
        "outputId": "f4053e99-aae6-4f46-9ac0-9116748b348c"
      },
      "execution_count": 40,
      "outputs": [
        {
          "output_type": "stream",
          "name": "stdout",
          "text": [
            "ReLU Tensor: tf.Tensor([0. 2. 0. 4.], shape=(4,), dtype=float32)\n",
            "Standard Deviation: tf.Tensor(0.81649655, shape=(), dtype=float32)\n",
            "Variance: tf.Tensor(0.6666667, shape=(), dtype=float32)\n"
          ]
        }
      ]
    },
    {
      "cell_type": "code",
      "source": [
        "# Creating a tensor with normally distributed values\n",
        "normal_tensor = tf.random.normal((5, 5), mean=0, stddev=1)\n",
        "print(\"Normal Tensor:\\n\", normal_tensor)\n",
        "\n",
        "# Creating a tensor with a truncated normal distribution\n",
        "truncated_tensor = tf.random.truncated_normal((5, 5), mean=0, stddev=1)\n",
        "print(\"Truncated Normal Tensor:\\n\", truncated_tensor)\n",
        "\n",
        "# Computing Hadamard (element-wise) product\n",
        "hadamard_product = mat_A * mat_B\n",
        "print(\"Hadamard Product:\\n\", hadamard_product)\n",
        "\n"
      ],
      "metadata": {
        "id": "tUMKcAHgsJZ2",
        "colab": {
          "base_uri": "https://localhost:8080/"
        },
        "outputId": "c44e7425-4a38-4f0f-fc9d-cc98f9a2c882"
      },
      "execution_count": 41,
      "outputs": [
        {
          "output_type": "stream",
          "name": "stdout",
          "text": [
            "Normal Tensor:\n",
            " tf.Tensor(\n",
            "[[-0.61346    -1.0256169  -1.1752816  -0.79817134  0.31040156]\n",
            " [-0.31265932  0.86418086 -0.02085696 -0.09320099 -1.1740861 ]\n",
            " [-0.41467157 -0.68059224 -0.11699343 -0.4384672   0.14537719]\n",
            " [-1.7982905   1.0423727   0.42576015 -0.65798914  2.103099  ]\n",
            " [ 0.5086817  -0.20136939 -0.27966458  1.5373868  -1.3815433 ]], shape=(5, 5), dtype=float32)\n",
            "Truncated Normal Tensor:\n",
            " tf.Tensor(\n",
            "[[-0.6383433  -1.149278   -0.8656428  -1.3332063  -0.17588058]\n",
            " [-0.38973865  0.77889794 -0.0948676   0.03605896 -0.07398779]\n",
            " [ 1.449635   -1.2038275   0.18531859 -0.14270774  0.58775544]\n",
            " [ 0.5645337   0.22553253 -1.6796802  -0.8548349   0.8119257 ]\n",
            " [-0.43062916  0.3560336   0.8046876  -1.0938212  -0.12828766]], shape=(5, 5), dtype=float32)\n",
            "Hadamard Product:\n",
            " tf.Tensor(\n",
            "[[ 5. 12.]\n",
            " [21. 32.]], shape=(2, 2), dtype=float32)\n"
          ]
        }
      ]
    },
    {
      "cell_type": "code",
      "source": [
        "# Matrix multiplication with higher dimensions\n",
        "mat_C = tf.random.uniform((4, 4), minval=0, maxval=10, dtype=tf.float32)\n",
        "mat_D = tf.random.uniform((4, 4), minval=0, maxval=10, dtype=tf.float32)\n",
        "mat_mul_high = tf.matmul(mat_C, mat_D)\n",
        "print(\"High Dim Matrix Multiplication:\\n\", mat_mul_high)"
      ],
      "metadata": {
        "id": "xntoYZVDsJdf",
        "colab": {
          "base_uri": "https://localhost:8080/"
        },
        "outputId": "d039104f-59d0-47b4-b192-4f9fc8b96828"
      },
      "execution_count": 42,
      "outputs": [
        {
          "output_type": "stream",
          "name": "stdout",
          "text": [
            "High Dim Matrix Multiplication:\n",
            " tf.Tensor(\n",
            "[[ 75.81592  105.19215   68.89405   86.360016]\n",
            " [ 25.82193  100.23475   45.258633  60.11636 ]\n",
            " [ 43.20284   99.20391   23.97472   68.41944 ]\n",
            " [ 42.99449   85.89349   69.86856   60.862537]], shape=(4, 4), dtype=float32)\n"
          ]
        }
      ]
    },
    {
      "cell_type": "code",
      "source": [
        "# Transposing a higher-dimensional matrix\n",
        "transposed_high = tf.transpose(batch_A, perm=[0, 2, 1])\n",
        "print(\"High Dim Transpose:\\n\", transposed_high)\n",
        "\n",
        "# Computing inverse of a matrix\n",
        "matrix_inv_high = tf.linalg.inv(mat_C)\n",
        "print(\"High Dim Inverse:\\n\", matrix_inv_high)\n",
        "\n",
        "# Computing matrix determinant\n",
        "matrix_det_high = tf.linalg.det(mat_C)\n",
        "print(\"High Dim Determinant:\", matrix_det_high)\n"
      ],
      "metadata": {
        "id": "1QEM5LA8sOFv",
        "colab": {
          "base_uri": "https://localhost:8080/"
        },
        "outputId": "928b2687-498f-43f6-b7d7-7fd2f7356d7b"
      },
      "execution_count": 43,
      "outputs": [
        {
          "output_type": "stream",
          "name": "stdout",
          "text": [
            "High Dim Transpose:\n",
            " tf.Tensor(\n",
            "[[[0.12615311 0.5461836  0.3076812 ]\n",
            "  [0.5727513  0.7205157  0.48171103]\n",
            "  [0.2993133  0.7889533  0.6537752 ]]\n",
            "\n",
            " [[0.12099254 0.22695613 0.28618944]\n",
            "  [0.36291742 0.52010036 0.49184704]\n",
            "  [0.24489999 0.86846626 0.6749884 ]]], shape=(2, 3, 3), dtype=float32)\n",
            "High Dim Inverse:\n",
            " tf.Tensor(\n",
            "[[ 0.07875811  0.01328545  0.07137002 -0.1012265 ]\n",
            " [-0.31158024 -0.50408274  0.28193605  0.6539258 ]\n",
            " [ 1.8993827   2.5278964  -2.0670362  -2.7803895 ]\n",
            " [-2.620956   -3.2132468   2.8082082   3.7483547 ]], shape=(4, 4), dtype=float32)\n",
            "High Dim Determinant: tf.Tensor(83.28789, shape=(), dtype=float32)\n"
          ]
        }
      ]
    },
    {
      "cell_type": "code",
      "source": [
        "# Computing Log Determinant\n",
        "log_det_high = tf.linalg.logdet(mat_C)\n",
        "print(\"High Dim Log Determinant:\", log_det_high)\n",
        "\n",
        "# Computing cosine similarity between two vectors\n",
        "vector_A = tf.random.uniform((5,), minval=0, maxval=10, dtype=tf.float32)\n",
        "vector_B = tf.random.uniform((5,), minval=0, maxval=10, dtype=tf.float32)\n",
        "cosine_sim_high = tf.tensordot(vector_A, vector_B, axes=1) / (tf.norm(vector_A) * tf.norm(vector_B))\n",
        "print(\"Cosine Similarity High:\", cosine_sim_high)\n",
        "\n"
      ],
      "metadata": {
        "id": "AeUg-0sGsOJZ",
        "colab": {
          "base_uri": "https://localhost:8080/"
        },
        "outputId": "f2dfd51a-1df6-425a-aea3-d7409889a023"
      },
      "execution_count": 44,
      "outputs": [
        {
          "output_type": "stream",
          "name": "stdout",
          "text": [
            "High Dim Log Determinant: tf.Tensor(nan, shape=(), dtype=float32)\n",
            "Cosine Similarity High: tf.Tensor(0.62366056, shape=(), dtype=float32)\n"
          ]
        }
      ]
    },
    {
      "cell_type": "code",
      "source": [
        "# Computing element-wise logarithm\n",
        "log_tensor_high = tf.math.log(mat_C + 1)\n",
        "print(\"Log Tensor High:\\n\", log_tensor_high)\n",
        "\n",
        "# Applying ReLU activation\n",
        "relu_tensor_high = tf.nn.relu(tf.constant([-5.0, 2.0, -3.0, 7.0]))\n",
        "print(\"ReLU High Tensor:\", relu_tensor_high)\n"
      ],
      "metadata": {
        "id": "xD2D4k-SsV7i",
        "colab": {
          "base_uri": "https://localhost:8080/"
        },
        "outputId": "c938586c-1372-4254-c2da-9e0de5191cb6"
      },
      "execution_count": 45,
      "outputs": [
        {
          "output_type": "stream",
          "name": "stdout",
          "text": [
            "Log Tensor High:\n",
            " tf.Tensor(\n",
            "[[2.3664546  2.079989   1.1554588  0.50234365]\n",
            " [1.1562983  1.1301594  2.1056244  1.7988834 ]\n",
            " [2.1231058  0.5109461  1.5002159  1.2990046 ]\n",
            " [1.4133334  1.9733812  1.8074082  1.3984736 ]], shape=(4, 4), dtype=float32)\n",
            "ReLU High Tensor: tf.Tensor([0. 2. 0. 7.], shape=(4,), dtype=float32)\n"
          ]
        }
      ]
    }
  ]
}